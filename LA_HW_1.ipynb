{
 "cells": [
  {
   "cell_type": "code",
   "execution_count": 2,
   "metadata": {
    "collapsed": false
   },
   "outputs": [
    {
     "data": {
      "text/latex": [
       "$$\\left[\\begin{matrix}225 & 450 & 675 & 900 & 1125\\\\225 & 450 & 675 & 900 & 1125\\\\225 & 450 & 675 & 900 & 1125\\\\225 & 450 & 675 & 900 & 1125\\\\225 & 450 & 675 & 900 & 1125\\end{matrix}\\right]$$"
      ],
      "text/plain": [
       "⎡225  450  675  900  1125⎤\n",
       "⎢                        ⎥\n",
       "⎢225  450  675  900  1125⎥\n",
       "⎢                        ⎥\n",
       "⎢225  450  675  900  1125⎥\n",
       "⎢                        ⎥\n",
       "⎢225  450  675  900  1125⎥\n",
       "⎢                        ⎥\n",
       "⎣225  450  675  900  1125⎦"
      ]
     },
     "execution_count": 2,
     "metadata": {},
     "output_type": "execute_result"
    }
   ],
   "source": [
    "from sympy import *\n",
    "init_printing(use_unicode = True)\n",
    "\n",
    "A = Matrix([[1,2,3,4,5],[1,2,3,4,5],[1,2,3,4,5],[1,2,3,4,5],[1,2,3,4,5],])\n",
    "A**3"
   ]
  },
  {
   "cell_type": "code",
   "execution_count": 3,
   "metadata": {
    "collapsed": false
   },
   "outputs": [
    {
     "data": {
      "text/latex": [
       "$$\\left[\\begin{matrix}2 & 14 & -16 & -6 & 178\\\\77 & 53 & 181 & 183 & -252\\\\89 & 31 & 224 & 285 & -731\\\\44 & 36 & 88 & 108 & -60\\end{matrix}\\right]$$"
      ],
      "text/plain": [
       "⎡2   14  -16  -6   178 ⎤\n",
       "⎢                      ⎥\n",
       "⎢77  53  181  183  -252⎥\n",
       "⎢                      ⎥\n",
       "⎢89  31  224  285  -731⎥\n",
       "⎢                      ⎥\n",
       "⎣44  36  88   108  -60 ⎦"
      ]
     },
     "execution_count": 3,
     "metadata": {},
     "output_type": "execute_result"
    }
   ],
   "source": [
    "A = Matrix([[2, 4, 5], [2, 6, 1], [-2, 9, 15], [12, 0, 15], [3, 34, -52]])\n",
    "B = Matrix([[2, 4, 5, 4], [2, 6, 1, 4],[-2, 9, 15, 4]])\n",
    "(A*B).T"
   ]
  },
  {
   "cell_type": "code",
   "execution_count": 6,
   "metadata": {
    "collapsed": false
   },
   "outputs": [
    {
     "data": {
      "image/png": "[encoded data removed]",
      "text/latex": [
       "$$3$$"
      ],
      "text/plain": [
       "3"
      ]
     },
     "execution_count": 6,
     "metadata": {},
     "output_type": "execute_result"
    }
   ],
   "source": [
    "M = Matrix([[2, 4, 5], [2, 6, 1], [-2, 9, 15], [12, 0, 15], [3, 34, -52]])\n",
    "M.rank()"
   ]
  },
  {
   "cell_type": "code",
   "execution_count": 4,
   "metadata": {
    "collapsed": false
   },
   "outputs": [
    {
     "data": {
      "text/latex": [
       "$$\\left ( \\left[\\begin{matrix}1 & 0 & 1 & 3\\\\0 & 1 & \\frac{2}{3} & \\frac{1}{3}\\\\0 & 0 & 0 & 0\\end{matrix}\\right], \\quad \\left [ 0, \\quad 1\\right ]\\right )$$"
      ],
      "text/plain": [
       "⎛⎡1  0   1    3 ⎤, [0, 1]⎞\n",
       "⎜⎢              ⎥        ⎟\n",
       "⎜⎢0  1  2/3  1/3⎥        ⎟\n",
       "⎜⎢              ⎥        ⎟\n",
       "⎝⎣0  0   0    0 ⎦        ⎠"
      ]
     },
     "execution_count": 4,
     "metadata": {},
     "output_type": "execute_result"
    }
   ],
   "source": [
    "M = Matrix ([[1, 0, 1, 3],[2, 3, 4, 7],[-1, -3, -3, -4]])\n",
    "M.rref()"
   ]
  },
  {
   "cell_type": "code",
   "execution_count": null,
   "metadata": {
    "collapsed": true
   },
   "outputs": [],
   "source": []
  }
 ],
 "metadata": {
  "kernelspec": {
   "display_name": "Python 3",
   "language": "python",
   "name": "python3"
  },
  "language_info": {
   "codemirror_mode": {
    "name": "ipython",
    "version": 3
   },
   "file_extension": ".py",
   "mimetype": "text/x-python",
   "name": "python",
   "nbconvert_exporter": "python",
   "pygments_lexer": "ipython3",
   "version": "3.5.1"
  }
 },
 "nbformat": 4,
 "nbformat_minor": 0
}
