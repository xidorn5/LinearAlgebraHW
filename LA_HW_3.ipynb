{
 "cells": [
  {
   "cell_type": "code",
   "execution_count": 1,
   "metadata": {
    "collapsed": true
   },
   "outputs": [],
   "source": [
    "import sympy as sp\n",
    "\n",
    "def get_determinant(M):\n",
    "    determinant_value = M.det()\n",
    "    return determinant_value\n",
    "\n"
   ]
  },
  {
   "cell_type": "code",
   "execution_count": 3,
   "metadata": {
    "collapsed": false
   },
   "outputs": [],
   "source": [
    "import sympy as sp\n",
    "\n",
    "def get_determinant(M):\n",
    "    determinant_value = M.det()\n",
    "    return determinant_value\n",
    "\n",
    "def find_area(three_points):\n",
    "    if (0,0) in three_points:\n",
    "        three_points.remove((0,0))\n",
    "        A = sp.Matrix([[three_points[0][0], three_points[0][1]],[three_points[1][0], three_points[1][1]]])\n",
    "        area = abs (0.5 * get_determinant(A))\n",
    "    else:\n",
    "        A = sp.Matrix ([[three_points[0][0], three_points[0][1], 1],[three_points[1][0], three_points[1][1], 1],[three_points[2][0], three_points[2][1], 1]])\n",
    "        area = abs (0.5 * get_determinant(A))\n",
    "    return area\n"
   ]
  },
  {
   "cell_type": "code",
   "execution_count": 2,
   "metadata": {
    "collapsed": false
   },
   "outputs": [
    {
     "name": "stdout",
     "output_type": "stream",
     "text": [
      "The eigenvalues are: \n",
      "\n",
      "Eigenvalue:  7/3 + 190/(9*(-1/2 + sqrt(3)*I/2)*(460/27 + 10*sqrt(7386)*I/9)**(1/3)) + (-1/2 + sqrt(3)*I/2)*(460/27 + 10*sqrt(7386)*I/9)**(1/3) \n",
      "Number of times: 1 \n",
      "\n",
      "Eigenvalue:  7/3 + (-1/2 - sqrt(3)*I/2)*(460/27 + 10*sqrt(7386)*I/9)**(1/3) + 190/(9*(-1/2 - sqrt(3)*I/2)*(460/27 + 10*sqrt(7386)*I/9)**(1/3)) \n",
      "Number of times: 1 \n",
      "\n",
      "Eigenvalue:  7/3 + 190/(9*(460/27 + 10*sqrt(7386)*I/9)**(1/3)) + (460/27 + 10*sqrt(7386)*I/9)**(1/3) \n",
      "Number of times: 1 \n",
      "\n",
      "\n",
      "\n",
      "The eigenvectors are: \n",
      "\n",
      "Eigenvector 1 :  (7/3 + (-1/2 - sqrt(3)*I/2)*(460/27 + 10*sqrt(7386)*I/9)**(1/3) + 190/(9*(-1/2 - sqrt(3)*I/2)*(460/27 + 10*sqrt(7386)*I/9)**(1/3)), 1, [Matrix([\n",
      "[-10**(1/3)*(1 + sqrt(3)*I)*(46 + 3*sqrt(7386)*I)**(1/3)/(5*(38/3 + (1 + sqrt(3)*I)*(10 + (1 + sqrt(3)*I)*(460 + 30*sqrt(7386)*I)**(1/3))*(460 + 30*sqrt(7386)*I)**(1/3)/60)) + 3*10**(1/3)*(1 + sqrt(3)*I)*(6 - 10**(1/3)*(1 + sqrt(3)*I)*(46 + 3*sqrt(7386)*I)**(1/3)/(5*(38/3 + (1 + sqrt(3)*I)*(10 + (1 + sqrt(3)*I)*(460 + 30*sqrt(7386)*I)**(1/3))*(460 + 30*sqrt(7386)*I)**(1/3)/60)))*(46 + 3*sqrt(7386)*I)**(1/3)/(10*(38/3 + (1 + sqrt(3)*I)*(10 + (1 + sqrt(3)*I)*(460 + 30*sqrt(7386)*I)**(1/3))*(460 + 30*sqrt(7386)*I)**(1/3)/60)*(-1/3 + 190/(9*(1/2 + sqrt(3)*I/2)*(460/27 + 10*sqrt(7386)*I/9)**(1/3)) - 3*10**(1/3)*(1 + sqrt(3)*I)*(46 + 3*sqrt(7386)*I)**(1/3)/(10*(38/3 + (1 + sqrt(3)*I)*(10 + (1 + sqrt(3)*I)*(460 + 30*sqrt(7386)*I)**(1/3))*(460 + 30*sqrt(7386)*I)**(1/3)/60)) + (1/2 + sqrt(3)*I/2)*(460/27 + 10*sqrt(7386)*I/9)**(1/3)))],\n",
      "[                                                                                                                                                                                                                                                                                                                                                             -(6 - 10**(1/3)*(1 + sqrt(3)*I)*(46 + 3*sqrt(7386)*I)**(1/3)/(5*(38/3 + (1 + sqrt(3)*I)*(10 + (1 + sqrt(3)*I)*(460 + 30*sqrt(7386)*I)**(1/3))*(460 + 30*sqrt(7386)*I)**(1/3)/60)))/(-1/3 + 190/(9*(1/2 + sqrt(3)*I/2)*(460/27 + 10*sqrt(7386)*I/9)**(1/3)) - 3*10**(1/3)*(1 + sqrt(3)*I)*(46 + 3*sqrt(7386)*I)**(1/3)/(10*(38/3 + (1 + sqrt(3)*I)*(10 + (1 + sqrt(3)*I)*(460 + 30*sqrt(7386)*I)**(1/3))*(460 + 30*sqrt(7386)*I)**(1/3)/60)) + (1/2 + sqrt(3)*I/2)*(460/27 + 10*sqrt(7386)*I/9)**(1/3))],\n",
      "[                                                                                                                                                                                                                                                                                                                                                                                                                                                                                                                                                                                                                                                                                                                                                                                                                                                                  1]])]) \n",
      "\n",
      "\n",
      "Eigenvector 2 :  (7/3 + 190/(9*(-1/2 + sqrt(3)*I/2)*(460/27 + 10*sqrt(7386)*I/9)**(1/3)) + (-1/2 + sqrt(3)*I/2)*(460/27 + 10*sqrt(7386)*I/9)**(1/3), 1, [Matrix([\n",
      "[3*10**(1/3)*(1 - sqrt(3)*I)*(6 - 10**(1/3)*(1 - sqrt(3)*I)*(46 + 3*sqrt(7386)*I)**(1/3)/(5*(38/3 + (1 - sqrt(3)*I)*(10 + (1 - sqrt(3)*I)*(460 + 30*sqrt(7386)*I)**(1/3))*(460 + 30*sqrt(7386)*I)**(1/3)/60)))*(46 + 3*sqrt(7386)*I)**(1/3)/(10*(38/3 + (1 - sqrt(3)*I)*(10 + (1 - sqrt(3)*I)*(460 + 30*sqrt(7386)*I)**(1/3))*(460 + 30*sqrt(7386)*I)**(1/3)/60)*(-1/3 + (1/2 - sqrt(3)*I/2)*(460/27 + 10*sqrt(7386)*I/9)**(1/3) - 3*10**(1/3)*(1 - sqrt(3)*I)*(46 + 3*sqrt(7386)*I)**(1/3)/(10*(38/3 + (1 - sqrt(3)*I)*(10 + (1 - sqrt(3)*I)*(460 + 30*sqrt(7386)*I)**(1/3))*(460 + 30*sqrt(7386)*I)**(1/3)/60)) + 190/(9*(1/2 - sqrt(3)*I/2)*(460/27 + 10*sqrt(7386)*I/9)**(1/3)))) - 10**(1/3)*(1 - sqrt(3)*I)*(46 + 3*sqrt(7386)*I)**(1/3)/(5*(38/3 + (1 - sqrt(3)*I)*(10 + (1 - sqrt(3)*I)*(460 + 30*sqrt(7386)*I)**(1/3))*(460 + 30*sqrt(7386)*I)**(1/3)/60))],\n",
      "[                                                                                                                                                                                                                                                                                                                                                            -(6 - 10**(1/3)*(1 - sqrt(3)*I)*(46 + 3*sqrt(7386)*I)**(1/3)/(5*(38/3 + (1 - sqrt(3)*I)*(10 + (1 - sqrt(3)*I)*(460 + 30*sqrt(7386)*I)**(1/3))*(460 + 30*sqrt(7386)*I)**(1/3)/60)))/(-1/3 + (1/2 - sqrt(3)*I/2)*(460/27 + 10*sqrt(7386)*I/9)**(1/3) - 3*10**(1/3)*(1 - sqrt(3)*I)*(46 + 3*sqrt(7386)*I)**(1/3)/(10*(38/3 + (1 - sqrt(3)*I)*(10 + (1 - sqrt(3)*I)*(460 + 30*sqrt(7386)*I)**(1/3))*(460 + 30*sqrt(7386)*I)**(1/3)/60)) + 190/(9*(1/2 - sqrt(3)*I/2)*(460/27 + 10*sqrt(7386)*I/9)**(1/3)))],\n",
      "[                                                                                                                                                                                                                                                                                                                                                                                                                                                                                                                                                                                                                                                                                                                                                                                                                                                                 1]])]) \n",
      "\n",
      "\n",
      "Eigenvector 3 :  (7/3 + 190/(9*(460/27 + 10*sqrt(7386)*I/9)**(1/3)) + (460/27 + 10*sqrt(7386)*I/9)**(1/3), 1, [Matrix([\n",
      "[-2/(5/3 - 10**(1/3)*(46 + 3*sqrt(7386)*I)**(1/3)/3 - 19*10**(2/3)/(3*(46 + 3*sqrt(7386)*I)**(1/3))) + 3*(6 - 2/(5/3 - 10**(1/3)*(46 + 3*sqrt(7386)*I)**(1/3)/3 - 19*10**(2/3)/(3*(46 + 3*sqrt(7386)*I)**(1/3))))/((5/3 - 10**(1/3)*(46 + 3*sqrt(7386)*I)**(1/3)/3 - 19*10**(2/3)/(3*(46 + 3*sqrt(7386)*I)**(1/3)))*(-1/3 - (460/27 + 10*sqrt(7386)*I/9)**(1/3) + 3/(-5/3 + 19*10**(2/3)/(3*(46 + 3*sqrt(7386)*I)**(1/3)) + 10**(1/3)*(46 + 3*sqrt(7386)*I)**(1/3)/3) - 190/(9*(460/27 + 10*sqrt(7386)*I/9)**(1/3))))],\n",
      "[                                                                                                                                                                                                          -(6 - 2/(5/3 - 10**(1/3)*(46 + 3*sqrt(7386)*I)**(1/3)/3 - 19*10**(2/3)/(3*(46 + 3*sqrt(7386)*I)**(1/3))))/(-1/3 - (460/27 + 10*sqrt(7386)*I/9)**(1/3) + 3/(-5/3 + 19*10**(2/3)/(3*(46 + 3*sqrt(7386)*I)**(1/3)) + 10**(1/3)*(46 + 3*sqrt(7386)*I)**(1/3)/3) - 190/(9*(460/27 + 10*sqrt(7386)*I/9)**(1/3)))],\n",
      "[                                                                                                                                                                                                                                                                                                                                                                                                                                                                                                                   1]])]) \n",
      "\n",
      "\n"
     ]
    }
   ],
   "source": [
    "import sympy as sp\n",
    "\n",
    "A = sp.Matrix([[4, 3, 2], [1, 2, 6], [5, 8, 1]])\n",
    "eVal = A.eigenvals()\n",
    "print (\"The eigenvalues are: \\n\")\n",
    "for key in eVal:\n",
    "    print (\"Eigenvalue: \", key, \"\\nNumber of times:\", eVal[key], \"\\n\" )\n",
    "\n",
    "print(\"\\n\")\n",
    "\n",
    "print (\"The eigenvectors are: \\n\")\n",
    "eVec = A.eigenvects()\n",
    "\n",
    "for i in range(len(eVec)):\n",
    "    print (\"Eigenvector\",(i+1),\": \", eVec[i], \"\\n\\n\" )"
   ]
  }
 ],
 "metadata": {
  "kernelspec": {
   "display_name": "Python 3",
   "language": "python",
   "name": "python3"
  },
  "language_info": {
   "codemirror_mode": {
    "name": "ipython",
    "version": 3
   },
   "file_extension": ".py",
   "mimetype": "text/x-python",
   "name": "python",
   "nbconvert_exporter": "python",
   "pygments_lexer": "ipython3",
   "version": "3.5.1"
  }
 },
 "nbformat": 4,
 "nbformat_minor": 0
}
